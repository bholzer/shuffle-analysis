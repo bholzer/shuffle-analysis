{
 "cells": [
  {
   "cell_type": "code",
   "execution_count": null,
   "id": "cdecb40d",
   "metadata": {},
   "outputs": [],
   "source": [
    "import sys\n",
    "from itertools import chain, count\n",
    "from functools import reduce\n",
    "import matplotlib.pyplot as plt\n",
    "import csv\n",
    "import argparse\n",
    "from numpy import interp\n",
    "from multiprocessing import Pool\n",
    "from time import perf_counter"
   ]
  },
  {
   "cell_type": "code",
   "execution_count": null,
   "id": "8f42110b",
   "metadata": {},
   "outputs": [],
   "source": [
    "def weave(deck):\n",
    "    half = len(deck) // 2\n",
    "    return list(chain.from_iterable(zip(deck[:half], deck[half:])))"
   ]
  },
  {
   "cell_type": "code",
   "execution_count": null,
   "id": "b4379e83",
   "metadata": {},
   "outputs": [],
   "source": [
    "def shuffles_required(deck_size):\n",
    "    start_time = perf_counter()\n",
    "    starting_deck = list(range(deck_size))\n",
    "    current_shuffle = starting_deck\n",
    "    for i in count(start=1):\n",
    "        current_shuffle = weave(current_shuffle)\n",
    "        if current_shuffle == starting_deck:\n",
    "            end_time = perf_counter()\n",
    "            print(f'Shuffling {deck_size} items {i} times took {end_time - start_time:0.4f}s')\n",
    "            return i\n",
    "\n",
    "# Wrap shuffles_required for parallelization\n",
    "def shuffles_for_deck_size(deck_size):\n",
    "    return (deck_size, shuffles_required(deck_size))\n",
    "\n",
    "def write_to_csv(results, file_name):\n",
    "    with open(file_name, 'w', newline='') as csv_file:\n",
    "        fieldnames = ['deck_size', 'shuffle_count']\n",
    "        writer = csv.DictWriter(csv_file, fieldnames=fieldnames)\n",
    "        writer.writeheader()\n",
    "        for r in results:\n",
    "        writer.writerow({ 'deck_size': r[0], 'shuffle_count': r[1] })\n"
   ]
  }
 ],
 "metadata": {
  "kernelspec": {
   "display_name": "Python 3 (ipykernel)",
   "language": "python",
   "name": "python3"
  },
  "language_info": {
   "codemirror_mode": {
    "name": "ipython",
    "version": 3
   },
   "file_extension": ".py",
   "mimetype": "text/x-python",
   "name": "python",
   "nbconvert_exporter": "python",
   "pygments_lexer": "ipython3",
   "version": "3.10.6"
  }
 },
 "nbformat": 4,
 "nbformat_minor": 5
}
